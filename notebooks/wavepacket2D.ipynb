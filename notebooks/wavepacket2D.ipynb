{
 "cells": [
  {
   "cell_type": "markdown",
   "metadata": {},
   "source": [
    "*This notebook can be found on* [github](https://github.com/qojulia/QuantumOptics.jl-examples/tree/master/notebooks/wavepacket2D.ipynb)\n",
    "\n",
    "# Dynamics of a two-dimensional wavepacket hitting a Gaussian potential"
   ]
  },
  {
   "cell_type": "code",
   "execution_count": null,
   "metadata": {},
   "outputs": [],
   "source": [
    "using QuantumOptics, PyPlot"
   ]
  },
  {
   "cell_type": "markdown",
   "metadata": {},
   "source": [
    "In this example we will show how one can evolve a wavepacket in 2 spatial dimensions. We will do that using [`tensor`](@ref) products between the two spaces. We start similarly to the 1D case, by defining a position basis and a momentum operator for each dimension."
   ]
  },
  {
   "cell_type": "code",
   "execution_count": null,
   "metadata": {
    "collapsed": true
   },
   "outputs": [],
   "source": [
    "Npoints = 100\n",
    "Npointsy = 80\n",
    "\n",
    "xmin = -30\n",
    "xmax = 50\n",
    "b_position = PositionBasis(xmin, xmax, Npoints)\n",
    "b_momentum = MomentumBasis(b_position)\n",
    "\n",
    "ymin = -20\n",
    "ymax = 20\n",
    "b_positiony = PositionBasis(ymin, ymax, Npointsy)\n",
    "b_momentumy = MomentumBasis(b_positiony);"
   ]
  },
  {
   "cell_type": "markdown",
   "metadata": {},
   "source": [
    "The collective `FFTOperator` is defined analogously to the 1D case using the composite bases."
   ]
  },
  {
   "cell_type": "code",
   "execution_count": null,
   "metadata": {
    "collapsed": true
   },
   "outputs": [],
   "source": [
    "b_comp_x = b_position ⊗ b_positiony\n",
    "b_comp_p = b_momentum ⊗ b_momentumy\n",
    "\n",
    "Txp = transform(b_comp_x, b_comp_p)\n",
    "Tpx = transform(b_comp_p, b_comp_x);"
   ]
  },
  {
   "cell_type": "markdown",
   "metadata": {},
   "source": [
    "Thanks to these operators, we can specify the momentum operators in the respective `MomentumBasis`, where they are diagonal. Applying a diagonal operator is of course much more efficient."
   ]
  },
  {
   "cell_type": "code",
   "execution_count": null,
   "metadata": {
    "collapsed": true
   },
   "outputs": [],
   "source": [
    "px = momentum(b_momentum)\n",
    "py = momentum(b_momentumy);"
   ]
  },
  {
   "cell_type": "markdown",
   "metadata": {},
   "source": [
    "Now that we have a composite basis, we can write each kinetic energy term in this composite basis. In order to keep the `FFTOperator` approach efficient, we will do this using lazy operations."
   ]
  },
  {
   "cell_type": "code",
   "execution_count": null,
   "metadata": {
    "collapsed": true
   },
   "outputs": [],
   "source": [
    "Hkinx = LazyTensor(b_comp_p, [1, 2], [px^2/2, one(b_momentumy)])\n",
    "Hkiny = LazyTensor(b_comp_p, [1, 2], [one(b_momentum), py^2/2])\n",
    "\n",
    "Hkinx_FFT = LazyProduct(Txp, Hkinx, Tpx)\n",
    "Hkiny_FFT = LazyProduct(Txp, Hkiny, Tpx);"
   ]
  },
  {
   "cell_type": "markdown",
   "metadata": {},
   "source": [
    "Now we will add a two-dimensional potential. If we wanted to add a one-dimensional potential $V(x)$ the process is identical to the 1D case.\n",
    "\n",
    "However, making a 2D potential is a bit more involved. The first thing you need to understand is that all that `potentialoperator` does is create a `diagonaloperator` (since the potential function is always a diagonal operator in the position basis). So, considering the fact that the operators x and y are diagonal in a position basis (and hence also their tensor product), applying a function to a tensor product x ⊗ y results in a diagonal operator where the function is applied to each element of a diagonal.\n",
    "\n",
    "This is easily done like so"
   ]
  },
  {
   "cell_type": "code",
   "execution_count": null,
   "metadata": {},
   "outputs": [],
   "source": [
    "xsample = samplepoints(b_position)\n",
    "ysample = samplepoints(b_positiony)\n",
    "\n",
    "potential(x,y) = exp(-(x^2 + y^2)/30.0);\n",
    "\n",
    "V = diagonaloperator(b_comp_x, [potential(x, y) for y in ysample for x in xsample]);"
   ]
  },
  {
   "cell_type": "markdown",
   "metadata": {},
   "source": [
    "Then one creates the full Hamiltonian simply by combining the kinetic and potential terms"
   ]
  },
  {
   "cell_type": "code",
   "execution_count": null,
   "metadata": {
    "collapsed": true
   },
   "outputs": [],
   "source": [
    "H = LazySum(Hkinx_FFT, Hkiny_FFT, V);"
   ]
  },
  {
   "cell_type": "markdown",
   "metadata": {},
   "source": [
    "Now we will create a wavepacket in 2D and evolve it."
   ]
  },
  {
   "cell_type": "code",
   "execution_count": null,
   "metadata": {},
   "outputs": [],
   "source": [
    "x0 = -10\n",
    "y0 = -5\n",
    "p0_x = 1.5\n",
    "p0_y = 0.5\n",
    "σ = 2.0\n",
    "\n",
    "ψx = gaussianstate(b_position, x0, p0_x, σ)\n",
    "ψy = gaussianstate(b_positiony, y0, p0_y, σ)\n",
    "ψ = ψx ⊗ ψy\n",
    "\n",
    "T = collect(0.0:0.1:20.0)\n",
    "tout, ψt = timeevolution.schroedinger(T, ψ, H);"
   ]
  },
  {
   "cell_type": "code",
   "execution_count": null,
   "metadata": {},
   "outputs": [],
   "source": [
    "density = [reshape(abs2.(ψ.data), (Npoints, Npointsy))' for ψ=ψt]\n",
    "V_plot = reshape(real.(diag(V.data)), (Npoints, Npointsy))'\n",
    "\n",
    "figure(figsize=(12, 10))\n",
    "subplot(221)\n",
    "contourf(xsample, ysample, density[1], cmap=\"hot\")\n",
    "contourf(xsample, ysample, V_plot, alpha=0.3, cmap=\"Greys\")\n",
    "annotate(xy=[25, 10], s=\"t=$(T[1])\", fontsize=20)\n",
    "\n",
    "subplot(222)\n",
    "contourf(xsample, ysample, density[50], cmap=\"hot\")\n",
    "contourf(xsample, ysample, V_plot, alpha=0.3, cmap=\"Greys\")\n",
    "annotate(xy=[25, 10], s=\"t=$(T[50])\", fontsize=20)\n",
    "\n",
    "subplot(223)\n",
    "contourf(xsample, ysample, density[80], cmap=\"hot\")\n",
    "contourf(xsample, ysample, V_plot, alpha=0.3, cmap=\"Greys\")\n",
    "annotate(xy=[25, 10], s=\"t=$(T[80])\", fontsize=20)\n",
    "\n",
    "subplot(224)\n",
    "contourf(xsample, ysample, density[150], cmap=\"hot\")\n",
    "contourf(xsample, ysample, V_plot, alpha=0.3, cmap=\"Greys\")\n",
    "annotate(xy=[25, 10], s=\"t=$(T[150])\", fontsize=20)\n",
    "\n",
    "tight_layout();"
   ]
  },
  {
   "cell_type": "code",
   "execution_count": null,
   "metadata": {
    "collapsed": true
   },
   "outputs": [],
   "source": []
  }
 ],
 "metadata": {
  "kernelspec": {
   "display_name": "Julia 0.6.2",
   "language": "julia",
   "name": "julia-0.6"
  },
  "language_info": {
   "file_extension": ".jl",
   "mimetype": "application/julia",
   "name": "julia",
   "version": "0.6.2"
  }
 },
 "nbformat": 4,
 "nbformat_minor": 2
}
