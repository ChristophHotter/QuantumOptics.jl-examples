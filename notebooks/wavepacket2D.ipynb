{
 "cells": [
  {
   "cell_type": "markdown",
   "metadata": {},
   "source": [
    "*This notebook can be found on* [github](https://github.com/qojulia/QuantumOptics.jl-examples/tree/master/notebooks/wavepacket2D.ipynb)\n",
    "\n",
    "# Dynamics of a two-dimensional wavepacket"
   ]
  },
  {
   "cell_type": "code",
   "execution_count": null,
   "metadata": {
    "collapsed": true
   },
   "outputs": [],
   "source": [
    "using QuantumOptics, PyPlot"
   ]
  },
  {
   "cell_type": "markdown",
   "metadata": {},
   "source": [
    "In this example we will show how one can evolve a wavepacket in 2 spatial dimensions. We will do that using [`tensor`](@ref) products between the two spaces. We start similarly to the 1D case, by defining a position basis and a momentum operator for each dimension."
   ]
  },
  {
   "cell_type": "code",
   "execution_count": null,
   "metadata": {
    "collapsed": true
   },
   "outputs": [],
   "source": [
    "Npoints = 50\n",
    "Npointsy = 50\n",
    "\n",
    "xmin = -30\n",
    "xmax = 30\n",
    "b_position = PositionBasis(xmin, xmax, Npoints)\n",
    "b_momentum = MomentumBasis(b_position)\n",
    "\n",
    "ymin = -20\n",
    "ymax = 20\n",
    "b_positiony = PositionBasis(ymin, ymax, Npointsy)\n",
    "b_momentumy = MomentumBasis(b_positiony);"
   ]
  },
  {
   "cell_type": "markdown",
   "metadata": {},
   "source": [
    "The collective `FFTOperator` is defined analogously to the 1D case using the composite bases."
   ]
  },
  {
   "cell_type": "code",
   "execution_count": null,
   "metadata": {
    "collapsed": true
   },
   "outputs": [],
   "source": [
    "b_comp_x = b_position ⊗ b_positiony\n",
    "b_comp_p = b_momentum ⊗ b_momentumy\n",
    "\n",
    "Txp = transform(b_comp_x, b_comp_p)\n",
    "Tpx = transform(b_comp_p, b_comp_x);"
   ]
  },
  {
   "cell_type": "markdown",
   "metadata": {},
   "source": [
    "Thanks to these operators, we can specify the momentum operators in the respective `MomentumBasis`, where they are diagonal. Applying a diagonal operator is of course much more efficient."
   ]
  },
  {
   "cell_type": "code",
   "execution_count": null,
   "metadata": {
    "collapsed": true
   },
   "outputs": [],
   "source": [
    "px = momentum(b_momentum)\n",
    "py = momentum(b_momentumy);"
   ]
  },
  {
   "cell_type": "markdown",
   "metadata": {},
   "source": [
    "Now that we have a composite basis, we can write each kinetic energy term in this composite basis. In order to keep the `FFTOperator` approach efficient, we will do this using lazy operations."
   ]
  },
  {
   "cell_type": "code",
   "execution_count": null,
   "metadata": {
    "collapsed": true
   },
   "outputs": [],
   "source": [
    "Hkinx = LazyTensor(b_comp_p, [1, 2], [px^2/2, one(b_momentumy)])\n",
    "Hkiny = LazyTensor(b_comp_p, [1, 2], [one(b_momentum), py^2/2])\n",
    "\n",
    "Hkinx_FFT = LazyProduct(Txp, Hkinx, Tpx)\n",
    "Hkiny_FFT = LazyProduct(Txp, Hkiny, Tpx);"
   ]
  },
  {
   "cell_type": "markdown",
   "metadata": {},
   "source": [
    "Now we will add a two-dimensional potential. If we wanted to add a one-dimensional potential $V(x)$ the process is identical to the 1D case"
   ]
  },
  {
   "cell_type": "code",
   "execution_count": null,
   "metadata": {},
   "outputs": [],
   "source": [
    "V0 = 4. # Height of Barrier\n",
    "d = 5 # Width of Barrier\n",
    "function V_barrier(x)\n",
    "    if x < -d/2 || x > d/2\n",
    "        return 0.\n",
    "    else\n",
    "        return V0\n",
    "    end\n",
    "end\n",
    "V = potentialoperator(b_position, V_barrier)\n",
    "# Re-write in 2D form:\n",
    "V_comp = LazyTensor(b_comp, [1, 2], [V, one(b_positiony)])"
   ]
  },
  {
   "cell_type": "markdown",
   "metadata": {},
   "source": [
    "However, making a truly 2D potential is a tiny bit more involved. The first thing you need to understand is that all that `potentialoperator` does is create a `diagonaloperator` (since the potential function is always a diagonal operator). So, considering the fact that the operators x and y are diagonal in a position basis (and hence also their tensor product), applying a function to a tensor product x ⊗ y results in a diagonal operator where the function is applied to each element of a diagonal.\n",
    "\n",
    "This is easily done in the 2D case like\n"
   ]
  },
  {
   "cell_type": "code",
   "execution_count": null,
   "metadata": {
    "collapsed": true
   },
   "outputs": [],
   "source": [
    "potential(x,y) = sin(x*y) + cos(y)\n",
    "Vvec = [potential(x, y) for x in xsample for y in ysample];\n",
    "\n",
    "# V_comp = diagonaloperator(b_comp, Vvec) # we will use the 1D for visualization"
   ]
  },
  {
   "cell_type": "markdown",
   "metadata": {},
   "source": [
    "Then one creates the full Hamiltonian simply by combining the kinetic and potential terms"
   ]
  },
  {
   "cell_type": "code",
   "execution_count": null,
   "metadata": {},
   "outputs": [],
   "source": [
    "H = LazySum(Hkinx_comp, Hkiny_comp, V_comp)"
   ]
  },
  {
   "cell_type": "markdown",
   "metadata": {},
   "source": [
    "Now we can perform the time evolution. Unfortunately `timeevolution.schroedinger` currently has no implementation that works with a LazyTensor operator consisting of LazyProduct operators (The issue tracking this is here: https://github.com/qojulia/QuantumOptics.jl/issues/190).\n",
    "\n",
    "This means that the Hamiltonian matrix has to be recasted from Lazy form to \"normal\" form"
   ]
  },
  {
   "cell_type": "code",
   "execution_count": null,
   "metadata": {
    "collapsed": true
   },
   "outputs": [],
   "source": [
    "Hfull = sparse(full(H));"
   ]
  },
  {
   "cell_type": "markdown",
   "metadata": {},
   "source": [
    "Now we will create a wavepacket in 2D and evolve it:"
   ]
  },
  {
   "cell_type": "code",
   "execution_count": null,
   "metadata": {
    "collapsed": true
   },
   "outputs": [],
   "source": [
    "ψx = gaussianstate(b_position, -10.0, 1.5, 2)\n",
    "ψy = gaussianstate(b_positiony, 0, 0.5, 2)\n",
    "ψ = ψx ⊗ ψy # again tensor product\n",
    "\n",
    "T = collect(0.0:0.1:15.0)\n",
    "tout, C = timeevolution.schroedinger(T, ψ, Hfull);"
   ]
  },
  {
   "cell_type": "code",
   "execution_count": null,
   "metadata": {},
   "outputs": [],
   "source": [
    "c = C[1]\n",
    "data = reshape(abs2.(c.data), (Npoints, Npointsy))'\n",
    "norm = maximum(data)\n",
    "function plot_wp(i)\n",
    "    data = reshape(abs2.(C[i].data), (Npoints, Npointsy))'\n",
    "    figure()\n",
    "    ima = imshow(data, origin = \"lower\", extent = [xmin, xmax, ymin, ymax],\n",
    "    cmap = \"inferno\", vmax = norm)\n",
    "    tight_layout()\n",
    "end\n",
    "plot_wp(1)"
   ]
  },
  {
   "cell_type": "code",
   "execution_count": null,
   "metadata": {},
   "outputs": [],
   "source": [
    "plot_wp(50)\n"
   ]
  },
  {
   "cell_type": "code",
   "execution_count": null,
   "metadata": {},
   "outputs": [],
   "source": [
    "plot_wp(100)"
   ]
  },
  {
   "cell_type": "code",
   "execution_count": null,
   "metadata": {
    "collapsed": true
   },
   "outputs": [],
   "source": []
  }
 ],
 "metadata": {
  "kernelspec": {
   "display_name": "Julia 0.6.2",
   "language": "julia",
   "name": "julia-0.6"
  },
  "language_info": {
   "file_extension": ".jl",
   "mimetype": "application/julia",
   "name": "julia",
   "version": "0.6.2"
  }
 },
 "nbformat": 4,
 "nbformat_minor": 2
}
